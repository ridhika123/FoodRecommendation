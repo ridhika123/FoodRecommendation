{
 "cells": [
  {
   "cell_type": "code",
   "execution_count": 11,
   "id": "32dbfcb9",
   "metadata": {},
   "outputs": [],
   "source": [
    "# import streamlit as st\n",
    "# import pandas as pd\n",
    "# import numpy as np\n",
    "# # from streamlit import SessionState\n",
    "# # import SessionState\n",
    "# import os\n",
    "# from PIL import Image\n",
    "\n",
    "# import import_ipynb\n",
    "\n",
    "# # import config, rec_sys\n",
    "# from Cleaning_Data import ingredient_cleaner\n",
    "# from recommendation_final import get_recs\n",
    "\n",
    "# import nltk"
   ]
  },
  {
   "cell_type": "code",
   "execution_count": 12,
   "id": "ac3c1688",
   "metadata": {},
   "outputs": [],
   "source": [
    "# pip install import-ipynb\n",
    "# pip install selenium\n",
    "# pip install nltk\n",
    "# pip install unidecode\n",
    "# pip install gensim\n",
    "# pip install sklearn"
   ]
  }
 ],
 "metadata": {
  "kernelspec": {
   "display_name": "Python 3 (ipykernel)",
   "language": "python",
   "name": "python3"
  },
  "language_info": {
   "codemirror_mode": {
    "name": "ipython",
    "version": 3
   },
   "file_extension": ".py",
   "mimetype": "text/x-python",
   "name": "python",
   "nbconvert_exporter": "python",
   "pygments_lexer": "ipython3",
   "version": "3.9.12"
  }
 },
 "nbformat": 4,
 "nbformat_minor": 5
}
